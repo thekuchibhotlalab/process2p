{
 "cells": [
  {
   "cell_type": "code",
   "execution_count": 13,
   "metadata": {},
   "outputs": [],
   "source": [
    "# -*- coding: utf-8 -*-\n",
    "\"\"\"\n",
    "Created on Fri Aug 21 13:37:35 2020\n",
    "\n",
    "@author: zzhu34\n",
    "\"\"\"\n",
    "\n",
    "import sys\n",
    "import os  \n",
    "sys.path.insert(0, 'C:/Users/zzhu34/Documents/gitRep/suite2p')\n",
    "import suite2p\n",
    "from suite2p import run_s2p\n",
    "import numpy as np\n",
    "from scipy.io import loadmat\n",
    "\n"
   ]
  },
  {
   "cell_type": "code",
   "execution_count": null,
   "metadata": {},
   "outputs": [],
   "source": [
    "# get refImg from registered refImg\n",
    "a = np.load('D:/suite2p_temp/zz018/suite2p/ops1.npy',allow_pickle=True)\n",
    "b = a.item(0)\n",
    "type(b)\n",
    "#np.save('D:/labData/zz018h5/test/refImg.npy',b['refImg'])"
   ]
  },
  {
   "cell_type": "code",
   "execution_count": null,
   "metadata": {},
   "outputs": [],
   "source": [
    "a.shape"
   ]
  },
  {
   "cell_type": "code",
   "execution_count": 27,
   "metadata": {},
   "outputs": [],
   "source": [
    "# load refImg from saved npy\n",
    "refImg = np.load('D:/labData/zz018h5/test/refImg.npy')"
   ]
  },
  {
   "cell_type": "code",
   "execution_count": 37,
   "metadata": {},
   "outputs": [],
   "source": [
    "# load refImg from saved mat\n",
    "refImg = loadmat('D:/labData/zz018h5/test/refImg.mat')\n",
    "refImg = refImg['refImg']"
   ]
  },
  {
   "cell_type": "code",
   "execution_count": 38,
   "metadata": {},
   "outputs": [],
   "source": [
    "ops = suite2p.default_ops() # populates ops with the default options\n",
    "ops['nplanes'] = 2\n",
    "ops['nchannels'] = 1 # Only for green channel animal\n",
    "ops['two_step_registration']= True\n",
    "ops['fs'] = 15.63\n",
    "ops['tau'] = 0.7\n",
    "ops['functional_chan'] = 1\n",
    "ops['save_mat'] = True\n",
    "ops['align_by_chan'] : 1\n",
    "ops['look_one_level_down'] = 0\n",
    "ops['diameter'] = 10\n",
    "ops['block_size']=np.array([256,256])\n",
    "ops['maxregshift']= 0.1\n",
    "ops['snr_thresh']=2.0\n",
    "ops['maxregshiftNR']=3\n",
    "\n",
    "db = {\n",
    "        'h5py': 'D:/labData/zz018h5/test' + '/' + 'zz018_016_000.h5', # a single h5 file \n",
    "        'h5py_key': ['data'], # list of keys to use (they will be extracted in the order you give them\n",
    "        'data_path': ['D:/labData/zz018h5/test'],\n",
    "        \n",
    "        }"
   ]
  },
  {
   "cell_type": "code",
   "execution_count": 39,
   "metadata": {},
   "outputs": [
    {
     "name": "stdout",
     "output_type": "stream",
     "text": [
      "{'h5py': 'D:/labData/zz018h5/test/zz018_016_000.h5', 'h5py_key': ['data'], 'data_path': ['D:/labData/zz018h5/test']}\n",
      "h5\n",
      "** Found 2 h5 files - converting to binary **\n",
      "NOTE: using a list of h5 files:\n",
      "['D:/labData/zz018h5/test\\\\zz018_016_000.h5', 'D:/labData/zz018h5/test\\\\zz018_016_001.h5']\n",
      "time 323.81 sec. Wrote 13500 frames per binary for 2 planes\n",
      "(403, 697, 2)\n",
      ">>>>>>>>>>>>>>>>>>>>> PLANE 0 <<<<<<<<<<<<<<<<<<<<<<\n",
      "NOTE: not registered / registration forced with ops['do_registration']>1\n",
      "      (no previous offsets to delete)\n",
      "----------- REGISTRATION\n",
      "Reference Image Detected --- Using Input Reference Image\n",
      "(403, 697)\n",
      "registering 13500 frames\n",
      "NOTE: user reference frame given\n",
      "Registered 2000/13500 in 109.01s\n",
      "Registered 4000/13500 in 216.77s\n",
      "Registered 6000/13500 in 324.81s\n",
      "Registered 8000/13500 in 432.65s\n",
      "Registered 10000/13500 in 540.57s\n",
      "Registered 12000/13500 in 648.46s\n",
      "----------- Total 730.72 sec\n",
      "Registration metrics, 58.46 sec.\n",
      "NOTE: applying default C:\\Users\\zzhu34\\.suite2p\\classifiers\\classifier_user.npy\n",
      "----------- ROI DETECTION\n",
      "Binning movie in chunks of length 11\n",
      "Binned movie [1215,387,651], 80.45 sec.\n",
      "NOTE: estimated spatial scale ~12 pixels, time epochs 1.01, threshold 10.12 \n",
      "0 ROIs, score=401.94\n",
      "1000 ROIs, score=66.38\n",
      "2000 ROIs, score=35.48\n",
      "3000 ROIs, score=23.52\n",
      "4000 ROIs, score=17.41\n",
      "Found 5000 ROIs, 89.37 sec\n",
      "After removing overlaps, 2546 ROIs remain\n",
      "Masks made in 28.40 sec.\n",
      "----------- Total 200.41 sec.\n",
      "----------- EXTRACTION\n",
      "Extracted fluorescence from 2546 ROIs in 13500 frames, 131.36 sec.\n",
      "added enhanced mean image\n",
      "----------- Total 142.62 sec.\n",
      "----------- CLASSIFICATION\n",
      "----------- Total 0.15 sec.\n",
      "----------- SPIKE DECONVOLUTION\n",
      "----------- Total 1.82 sec.\n",
      "Plane 0 processed in 1143.04 sec (can open in GUI).\n",
      "(403, 697, 2)\n",
      ">>>>>>>>>>>>>>>>>>>>> PLANE 1 <<<<<<<<<<<<<<<<<<<<<<\n",
      "NOTE: not registered / registration forced with ops['do_registration']>1\n",
      "      (no previous offsets to delete)\n",
      "----------- REGISTRATION\n",
      "Reference Image Detected --- Using Input Reference Image\n",
      "(403, 697)\n",
      "registering 13498 frames\n",
      "NOTE: user reference frame given\n",
      "Registered 2000/13498 in 109.05s\n",
      "Registered 4000/13498 in 217.61s\n",
      "Registered 6000/13498 in 325.26s\n",
      "Registered 8000/13498 in 433.04s\n",
      "Registered 10000/13498 in 541.10s\n",
      "Registered 12000/13498 in 650.64s\n",
      "----------- Total 731.85 sec\n",
      "Registration metrics, 41.86 sec.\n",
      "NOTE: applying default C:\\Users\\zzhu34\\.suite2p\\classifiers\\classifier_user.npy\n",
      "----------- ROI DETECTION\n",
      "Binning movie in chunks of length 11\n",
      "Binned movie [1170,363,637], 55.83 sec.\n",
      "NOTE: estimated spatial scale ~12 pixels, time epochs 1.00, threshold 10.00 \n",
      "0 ROIs, score=418.79\n",
      "1000 ROIs, score=55.59\n",
      "2000 ROIs, score=29.55\n",
      "3000 ROIs, score=19.67\n",
      "4000 ROIs, score=14.91\n",
      "Found 5000 ROIs, 75.90 sec\n",
      "After removing overlaps, 2781 ROIs remain\n",
      "Masks made in 32.15 sec.\n",
      "----------- Total 166.01 sec.\n",
      "----------- EXTRACTION\n",
      "Extracted fluorescence from 2781 ROIs in 13498 frames, 118.96 sec.\n",
      "added enhanced mean image\n",
      "----------- Total 130.37 sec.\n",
      "----------- CLASSIFICATION\n",
      "----------- Total 0.04 sec.\n",
      "----------- SPIKE DECONVOLUTION\n",
      "----------- Total 1.94 sec.\n",
      "Plane 1 processed in 1080.90 sec (can open in GUI).\n",
      "total = 2550.33 sec.\n",
      "Creating combined view\n",
      "TOTAL RUNTIME 2578.26 sec\n"
     ]
    }
   ],
   "source": [
    "import myrun_s2p\n",
    "opsEnd=myrun_s2p.myrun_s2p(ops=ops,db=db,refImg = refImg)"
   ]
  },
  {
   "cell_type": "code",
   "execution_count": null,
   "metadata": {},
   "outputs": [],
   "source": [
    "ops = suite2p.default_ops() # populates ops with the default options\n",
    "ops['nplanes'] = 1\n",
    "ops['nchannels'] = 1 # Only for green channel animal\n",
    "ops['fs'] = 15.63\n",
    "ops['tau'] = 0.7\n",
    "ops['functional_chan'] = 1\n",
    "ops['save_mat'] = True\n",
    "ops['align_by_chan'] : 1\n",
    "ops['look_one_level_down'] = 0\n",
    "ops['diameter'] = 10\n",
    "ops['block_size']=np.array([48,48])\n",
    "ops['maxregshift']= 0.1\n",
    "ops['snr_thresh']=1.2\n",
    "ops['maxregshiftNR']=3\n",
    "\n",
    "db = {\n",
    "        'h5py': 'D:/labData/zz018h5/test1' + '/' + 'meanImg.h5', # a single h5 file \n",
    "        'h5py_key': ['data'], # list of keys to use (they will be extracted in the order you give them\n",
    "        'data_path': ['D:/labData/zz018h5/test1'],\n",
    "        \n",
    "        }"
   ]
  },
  {
   "cell_type": "code",
   "execution_count": 77,
   "metadata": {},
   "outputs": [],
   "source": [
    "refImg = loadmat('D:/labData/zz018h5/test4/refImg.mat')\n",
    "refImg = refImg['refImg']\n",
    "ops = suite2p.default_ops() # populates ops with the default options\n",
    "ops['nplanes'] = 2\n",
    "ops['nchannels'] = 1 # Only for green channel animal\n",
    "ops['fs'] = 15.63\n",
    "ops['tau'] = 0.7\n",
    "ops['keep_movie_raw'] = True\n",
    "ops['functional_chan'] = 1\n",
    "ops['save_mat'] = True\n",
    "ops['align_by_chan'] = 1\n",
    "ops['look_one_level_down'] = 0\n",
    "ops['diameter'] = 10\n",
    "ops['block_size']=np.array([48,48])\n",
    "ops['maxregshift']= 0.1\n",
    "ops['snr_thresh']=1.2\n",
    "ops['maxregshiftNR']=15\n",
    "ops['roidetect']= False\n",
    "ops['do_registration'] = 2\n",
    "ops['nonrigid'] = True\n",
    "db = {\n",
    "        'h5py': 'D:/labData/zz018h5/test4' + '/' + 'meanImg_plane.h5', # a single h5 file \n",
    "        'h5py_key': ['data'], # list of keys to use (they will be extracted in the order you give them\n",
    "        'data_path': ['D:/labData/zz018h5/test4'],\n",
    "        \n",
    "        }"
   ]
  },
  {
   "cell_type": "code",
   "execution_count": 78,
   "metadata": {},
   "outputs": [
    {
     "name": "stdout",
     "output_type": "stream",
     "text": [
      "{'h5py': 'D:/labData/zz018h5/test4/meanImg_plane.h5', 'h5py_key': ['data'], 'data_path': ['D:/labData/zz018h5/test4']}\n",
      "FOUND BINARIES AND OPS IN ['D:/labData/zz018h5/test4\\\\suite2p\\\\plane0\\\\ops.npy', 'D:/labData/zz018h5/test4\\\\suite2p\\\\plane1\\\\ops.npy']\n",
      "(403, 697, 2)\n",
      ">>>>>>>>>>>>>>>>>>>>> PLANE 0 <<<<<<<<<<<<<<<<<<<<<<\n",
      "NOTE: not registered / registration forced with ops['do_registration']>1\n",
      "----------- REGISTRATION\n",
      "Reference Image Detected --- Using Input Reference Image\n",
      "(403, 697)\n",
      "registering 200 frames\n",
      "NOTE: user reference frame given\n",
      "----------- Total 9.55 sec\n",
      "WARNING: skipping cell detection (ops['roidetect']=False)\n",
      "Plane 0 processed in 9.55 sec (can open in GUI).\n",
      "(403, 697, 2)\n",
      ">>>>>>>>>>>>>>>>>>>>> PLANE 1 <<<<<<<<<<<<<<<<<<<<<<\n",
      "NOTE: not registered / registration forced with ops['do_registration']>1\n",
      "----------- REGISTRATION\n",
      "Reference Image Detected --- Using Input Reference Image\n",
      "(403, 697)\n",
      "registering 200 frames\n",
      "NOTE: user reference frame given\n",
      "----------- Total 9.93 sec\n",
      "WARNING: skipping cell detection (ops['roidetect']=False)\n",
      "Plane 1 processed in 9.93 sec (can open in GUI).\n",
      "total = 19.61 sec.\n",
      "TOTAL RUNTIME 19.61 sec\n"
     ]
    }
   ],
   "source": [
    "import myrun_s2p\n",
    "opsEnd=myrun_s2p.myrun_s2p(ops=ops,db=db,refImg = refImg)"
   ]
  },
  {
   "cell_type": "code",
   "execution_count": null,
   "metadata": {},
   "outputs": [],
   "source": [
    "a = np.array([1,2,3])\n",
    "type(a)\n",
    "if type(a) is dict:\n",
    "    print('1')"
   ]
  },
  {
   "cell_type": "code",
   "execution_count": null,
   "metadata": {},
   "outputs": [],
   "source": [
    "opsEnd=run_s2p(ops=ops,db=db)"
   ]
  },
  {
   "cell_type": "code",
   "execution_count": 34,
   "metadata": {},
   "outputs": [
    {
     "data": {
      "text/plain": [
       "(403, 697, 2)"
      ]
     },
     "execution_count": 34,
     "metadata": {},
     "output_type": "execute_result"
    }
   ],
   "source": [
    "refImg.shape"
   ]
  },
  {
   "cell_type": "code",
   "execution_count": 46,
   "metadata": {},
   "outputs": [
    {
     "data": {
      "text/plain": [
       "{'suite2p_version': '0.9.0',\n",
       " 'look_one_level_down': 0,\n",
       " 'fast_disk': [],\n",
       " 'delete_bin': False,\n",
       " 'mesoscan': False,\n",
       " 'bruker': False,\n",
       " 'h5py': [],\n",
       " 'h5py_key': 'data',\n",
       " 'save_path0': [],\n",
       " 'save_folder': [],\n",
       " 'subfolders': [],\n",
       " 'move_bin': False,\n",
       " 'nplanes': 2,\n",
       " 'nchannels': 1,\n",
       " 'functional_chan': 1,\n",
       " 'tau': 0.7,\n",
       " 'fs': 15.63,\n",
       " 'force_sktiff': False,\n",
       " 'frames_include': -1,\n",
       " 'multiplane_parallel': False,\n",
       " 'preclassify': 0.0,\n",
       " 'save_mat': True,\n",
       " 'save_NWB': False,\n",
       " 'combined': True,\n",
       " 'aspect': 1.0,\n",
       " 'do_bidiphase': False,\n",
       " 'bidiphase': 0,\n",
       " 'bidi_corrected': False,\n",
       " 'do_registration': 1,\n",
       " 'two_step_registration': False,\n",
       " 'keep_movie_raw': False,\n",
       " 'nimg_init': 300,\n",
       " 'batch_size': 500,\n",
       " 'maxregshift': 0.1,\n",
       " 'align_by_chan': 1,\n",
       " 'reg_tif': False,\n",
       " 'reg_tif_chan2': False,\n",
       " 'subpixel': 10,\n",
       " 'smooth_sigma_time': 0,\n",
       " 'smooth_sigma': 1.15,\n",
       " 'th_badframes': 1.0,\n",
       " 'pad_fft': False,\n",
       " 'nonrigid': True,\n",
       " 'block_size': array([48, 48]),\n",
       " 'snr_thresh': 1.2,\n",
       " 'maxregshiftNR': 3,\n",
       " '1Preg': False,\n",
       " 'spatial_hp': 42,\n",
       " 'spatial_hp_reg': 42,\n",
       " 'spatial_hp_detect': 25,\n",
       " 'pre_smooth': 0,\n",
       " 'spatial_taper': 40,\n",
       " 'roidetect': True,\n",
       " 'spikedetect': True,\n",
       " 'sparse_mode': True,\n",
       " 'diameter': 10,\n",
       " 'spatial_scale': 0,\n",
       " 'connected': True,\n",
       " 'nbinned': 5000,\n",
       " 'max_iterations': 20,\n",
       " 'threshold_scaling': 1.0,\n",
       " 'max_overlap': 0.75,\n",
       " 'high_pass': 100,\n",
       " 'use_builtin_classifier': False,\n",
       " 'inner_neuropil_radius': 2,\n",
       " 'min_neuropil_pixels': 350,\n",
       " 'allow_overlap': False,\n",
       " 'chan2_thres': 0.65,\n",
       " 'baseline': 'maximin',\n",
       " 'win_baseline': 60.0,\n",
       " 'sig_baseline': 10.0,\n",
       " 'prctile_baseline': 8.0,\n",
       " 'neucoeff': 0.7}"
      ]
     },
     "execution_count": 46,
     "metadata": {},
     "output_type": "execute_result"
    }
   ],
   "source": [
    "ops"
   ]
  },
  {
   "cell_type": "code",
   "execution_count": null,
   "metadata": {},
   "outputs": [],
   "source": []
  }
 ],
 "metadata": {
  "kernelspec": {
   "display_name": "Python 3",
   "language": "python",
   "name": "python3"
  },
  "language_info": {
   "codemirror_mode": {
    "name": "ipython",
    "version": 3
   },
   "file_extension": ".py",
   "mimetype": "text/x-python",
   "name": "python",
   "nbconvert_exporter": "python",
   "pygments_lexer": "ipython3",
   "version": "3.7.9"
  }
 },
 "nbformat": 4,
 "nbformat_minor": 4
}
